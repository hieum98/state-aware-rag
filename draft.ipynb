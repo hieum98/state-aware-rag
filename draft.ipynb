{
 "cells": [
  {
   "cell_type": "code",
   "execution_count": 4,
   "id": "0efa9c8c",
   "metadata": {},
   "outputs": [],
   "source": [
    "import litellm\n",
    "\n",
    "\n",
    "question = \"In 2018, what Chilean footballer left Arsenal to join the team that The Saints beat in 1976 to win the FA Cup?\"\n",
    "messages = [{'role': 'user', 'content': question}]\n",
    "response = litellm.completion(\n",
    "    model='bedrock/us.anthropic.claude-3-7-sonnet-20250219-v1:0',\n",
    "    messages=messages,\n",
    ")"
   ]
  },
  {
   "cell_type": "code",
   "execution_count": 5,
   "id": "5c29a448",
   "metadata": {},
   "outputs": [
    {
     "data": {
      "text/plain": [
       "ModelResponse(id='chatcmpl-17b5eaaa-f66c-414b-af07-9241bd7fe5b8', created=1751295053, model='us.anthropic.claude-3-7-sonnet-20250219-v1:0', object='chat.completion', system_fingerprint=None, choices=[Choices(finish_reason='stop', index=0, message=Message(content='In 2018, Chilean footballer Alexis Sánchez left Arsenal to join Manchester United.\\n\\nManchester United was the team that Southampton FC (nicknamed \"The Saints\") defeated in the 1976 FA Cup final to win their only major trophy to date. Southampton won that match 1-0 with a goal from Bobby Stokes.', role='assistant', tool_calls=None, function_call=None, provider_specific_fields=None))], usage=Usage(completion_tokens=76, prompt_tokens=36, total_tokens=112, completion_tokens_details=None, prompt_tokens_details=PromptTokensDetailsWrapper(audio_tokens=None, cached_tokens=0, text_tokens=None, image_tokens=None), cache_creation_input_tokens=0, cache_read_input_tokens=0))"
      ]
     },
     "execution_count": 5,
     "metadata": {},
     "output_type": "execute_result"
    }
   ],
   "source": [
    "response"
   ]
  }
 ],
 "metadata": {
  "kernelspec": {
   "display_name": "test",
   "language": "python",
   "name": "python3"
  },
  "language_info": {
   "codemirror_mode": {
    "name": "ipython",
    "version": 3
   },
   "file_extension": ".py",
   "mimetype": "text/x-python",
   "name": "python",
   "nbconvert_exporter": "python",
   "pygments_lexer": "ipython3",
   "version": "3.10.18"
  }
 },
 "nbformat": 4,
 "nbformat_minor": 5
}
